{
 "cells": [
  {
   "cell_type": "code",
   "execution_count": 283,
   "metadata": {},
   "outputs": [],
   "source": [
    "import time\n",
    "\n",
    "import mysql.connector\n",
    "from Params import hostSQL, userSQL, passwdSQL, databaseSQL\n",
    "import os\n",
    "import json\n",
    "import pandas as pd\n",
    "import numpy as np\n",
    "\n",
    "import matplotlib.pyplot as plt \n",
    "\n",
    "import nltk\n",
    "from nltk.corpus import stopwords\n",
    "\n",
    "# --------------------------------------------------\n",
    " \n",
    "from sklearn.feature_extraction.text import TfidfVectorizer\n",
    "from sklearn.cluster import KMeans\n",
    "\n",
    "# --------------------------------------------------\n",
    "import warnings\n",
    "warnings.filterwarnings(\"ignore\",category=DeprecationWarning)\n",
    "\n"
   ]
  },
  {
   "cell_type": "code",
   "execution_count": 284,
   "metadata": {},
   "outputs": [],
   "source": [
    "\n",
    "mydb = mysql.connector.connect(\n",
    "    host=hostSQL,\n",
    "    user=userSQL,\n",
    "    passwd=passwdSQL,\n",
    "    auth_plugin='mysql_native_password',\n",
    "    database=databaseSQL\n",
    ")\n",
    "\n",
    "mycursor = mydb.cursor()\n"
   ]
  },
  {
   "cell_type": "code",
   "execution_count": 285,
   "metadata": {},
   "outputs": [],
   "source": [
    "sql = 'SELECT * FROM chatroom'\n",
    "mycursor.execute(sql)\n",
    "chatlog = mycursor.fetchall()\n",
    "\n",
    "sql = 'DESCRIBE chatroom'\n",
    "mycursor.execute(sql)\n",
    "chatDescribe = mycursor.fetchall()\n",
    "\n",
    "columns = []\n",
    "for i in chatDescribe:\n",
    "    columns.append(i[0])\n",
    "\n",
    "df = pd.DataFrame(chatlog, columns=columns)\n",
    "\n",
    "df['chat_line'] = df.chat_line.str[:-1]\n",
    "\n"
   ]
  },
  {
   "cell_type": "code",
   "execution_count": 286,
   "metadata": {},
   "outputs": [],
   "source": [
    "\n",
    "stop_words = stopwords.words('english')\n",
    "\n",
    "stop_words.extend([\n",
    "    'liv',\n",
    "    'im',\n",
    "    'nicole',\n",
    "    'heyits127joepuckers',\n",
    "    'hottea1dab',\n",
    "    'mercywing2',\n",
    "    'mercywing1',\n",
    "    'trae',\n",
    "    'leylaphype',\n",
    "    'leylapmario',\n",
    "    'mariioo007',\n",
    "    'leylaplove',\n",
    "    'leylakatana',\n",
    "    'footpics23',\n",
    "    'rpgghosto',\n",
    "    'kill199023',\n",
    "    'slawscare',\n",
    "    'eclairehyperbruh',\n",
    "    'traebear',\n",
    "    'ajvielul',\n",
    "    'bryce',\n",
    "    'pansexualpride',\n",
    "    'hottea1tier1',\n",
    "    'hottea1hottea',\n",
    "    'jaina',\n",
    "    'andyraemodlove',\n",
    "    'lylythfaire',\n",
    "    'ajvieflex',\n",
    "    'leylapcozy',\n",
    "    'leylaplurk',\n",
    "    'evelyn',\n",
    "    'cass',\n",
    "    'mrandyp',\n",
    "    'fizzle27',\n",
    "    'laribump',\n",
    "    'fbcatch',\n",
    "    'evelique',\n",
    "    'bankshot1321',\n",
    "    'meg',\n",
    "    'ellen',\n",
    "    'james',\n",
    "    'yogii',\n",
    "    'lari',\n",
    "    'livstixs',\n",
    "    'bandslam',\n",
    "    'hot_tea101',\n",
    "    'araynebow',\n",
    "    'nice'\n",
    "])\n",
    "\n",
    "stop_words.extend(dfChat.display_name.unique().tolist())\n",
    "\n",
    "channels = [\n",
    "            # 'ajvie',\n",
    "            # 'ayytrae',\n",
    "            # 'child_of_christ666',\n",
    "            # 'davinityyy',\n",
    "            # 'emandliv',\n",
    "            # 'hollytwolf',\n",
    "            # 'hottea',\n",
    "            # 'kneecoleslaw',\n",
    "            # 'laribug',\n",
    "            # 'leyla',\n",
    "            # 'livstixs',\n",
    "            # 'lizelda',\n",
    "            'martinimonsters'\n",
    "            # 'miss_angeliquew',\n",
    "            # 'misdelish',\n",
    "            # 'nataagataa',\n",
    "            # 'officialevelynclaire',\n",
    "            # 'pink_sparkles',\n",
    "            # 'xoaeriel',\n",
    "            # 'yogiibutt'\n",
    "            ]\n",
    "\n",
    "\n",
    "dfChat = df[df.chatchannel.isin(channels)]\n",
    "\n",
    "dfChat = dfChat[dfChat['display_name'] != 'nightbot']\n",
    "\n",
    "renameDict = {'chat_line': 'text'}\n",
    "dfChat.rename(columns=renameDict, inplace=True)\n",
    "\n",
    "data = dfChat.text.tolist()"
   ]
  },
  {
   "cell_type": "code",
   "execution_count": 287,
   "metadata": {},
   "outputs": [
    {
     "output_type": "execute_result",
     "data": {
      "text/plain": "       from_ID  display_name   text  sent_at  chatchannel\nlabel                                                    \n0            2             2      2        2            2\n1          270           270    270      270          270\n2          184           184    184      184          184\n3           14            14     14       14           14\n4           64            64     64       64           64\n5        20370         20370  20370    20370        20370\n6           56            56     56       56           56\n7           42            42     42       42           42\n8          139           139    139      139          139\n9          129           129    129      129          129\n10          31            31     31       31           31\n11          42            42     42       42           42\n12         283           283    283      283          283\n13          80            80     80       80           80\n14           2             2      2        2            2\n15          10            10     10       10           10\n16          65            65     65       65           65\n17         267           267    267      267          267\n18          25            25     25       25           25\n19         181           181    181      181          181\n20         128           128    128      128          128\n21         144           144    144      144          144\n22         196           196    196      196          196\n23         204           204    204      204          204\n24          31            31     31       31           31\n25          22            22     22       22           22\n26          11            11     11       11           11\n27          34            34     34       34           34\n28         150           150    150      150          150\n29         140           140    140      140          140",
      "text/html": "<div>\n<style scoped>\n    .dataframe tbody tr th:only-of-type {\n        vertical-align: middle;\n    }\n\n    .dataframe tbody tr th {\n        vertical-align: top;\n    }\n\n    .dataframe thead th {\n        text-align: right;\n    }\n</style>\n<table border=\"1\" class=\"dataframe\">\n  <thead>\n    <tr style=\"text-align: right;\">\n      <th></th>\n      <th>from_ID</th>\n      <th>display_name</th>\n      <th>text</th>\n      <th>sent_at</th>\n      <th>chatchannel</th>\n    </tr>\n    <tr>\n      <th>label</th>\n      <th></th>\n      <th></th>\n      <th></th>\n      <th></th>\n      <th></th>\n    </tr>\n  </thead>\n  <tbody>\n    <tr>\n      <th>0</th>\n      <td>2</td>\n      <td>2</td>\n      <td>2</td>\n      <td>2</td>\n      <td>2</td>\n    </tr>\n    <tr>\n      <th>1</th>\n      <td>270</td>\n      <td>270</td>\n      <td>270</td>\n      <td>270</td>\n      <td>270</td>\n    </tr>\n    <tr>\n      <th>2</th>\n      <td>184</td>\n      <td>184</td>\n      <td>184</td>\n      <td>184</td>\n      <td>184</td>\n    </tr>\n    <tr>\n      <th>3</th>\n      <td>14</td>\n      <td>14</td>\n      <td>14</td>\n      <td>14</td>\n      <td>14</td>\n    </tr>\n    <tr>\n      <th>4</th>\n      <td>64</td>\n      <td>64</td>\n      <td>64</td>\n      <td>64</td>\n      <td>64</td>\n    </tr>\n    <tr>\n      <th>5</th>\n      <td>20370</td>\n      <td>20370</td>\n      <td>20370</td>\n      <td>20370</td>\n      <td>20370</td>\n    </tr>\n    <tr>\n      <th>6</th>\n      <td>56</td>\n      <td>56</td>\n      <td>56</td>\n      <td>56</td>\n      <td>56</td>\n    </tr>\n    <tr>\n      <th>7</th>\n      <td>42</td>\n      <td>42</td>\n      <td>42</td>\n      <td>42</td>\n      <td>42</td>\n    </tr>\n    <tr>\n      <th>8</th>\n      <td>139</td>\n      <td>139</td>\n      <td>139</td>\n      <td>139</td>\n      <td>139</td>\n    </tr>\n    <tr>\n      <th>9</th>\n      <td>129</td>\n      <td>129</td>\n      <td>129</td>\n      <td>129</td>\n      <td>129</td>\n    </tr>\n    <tr>\n      <th>10</th>\n      <td>31</td>\n      <td>31</td>\n      <td>31</td>\n      <td>31</td>\n      <td>31</td>\n    </tr>\n    <tr>\n      <th>11</th>\n      <td>42</td>\n      <td>42</td>\n      <td>42</td>\n      <td>42</td>\n      <td>42</td>\n    </tr>\n    <tr>\n      <th>12</th>\n      <td>283</td>\n      <td>283</td>\n      <td>283</td>\n      <td>283</td>\n      <td>283</td>\n    </tr>\n    <tr>\n      <th>13</th>\n      <td>80</td>\n      <td>80</td>\n      <td>80</td>\n      <td>80</td>\n      <td>80</td>\n    </tr>\n    <tr>\n      <th>14</th>\n      <td>2</td>\n      <td>2</td>\n      <td>2</td>\n      <td>2</td>\n      <td>2</td>\n    </tr>\n    <tr>\n      <th>15</th>\n      <td>10</td>\n      <td>10</td>\n      <td>10</td>\n      <td>10</td>\n      <td>10</td>\n    </tr>\n    <tr>\n      <th>16</th>\n      <td>65</td>\n      <td>65</td>\n      <td>65</td>\n      <td>65</td>\n      <td>65</td>\n    </tr>\n    <tr>\n      <th>17</th>\n      <td>267</td>\n      <td>267</td>\n      <td>267</td>\n      <td>267</td>\n      <td>267</td>\n    </tr>\n    <tr>\n      <th>18</th>\n      <td>25</td>\n      <td>25</td>\n      <td>25</td>\n      <td>25</td>\n      <td>25</td>\n    </tr>\n    <tr>\n      <th>19</th>\n      <td>181</td>\n      <td>181</td>\n      <td>181</td>\n      <td>181</td>\n      <td>181</td>\n    </tr>\n    <tr>\n      <th>20</th>\n      <td>128</td>\n      <td>128</td>\n      <td>128</td>\n      <td>128</td>\n      <td>128</td>\n    </tr>\n    <tr>\n      <th>21</th>\n      <td>144</td>\n      <td>144</td>\n      <td>144</td>\n      <td>144</td>\n      <td>144</td>\n    </tr>\n    <tr>\n      <th>22</th>\n      <td>196</td>\n      <td>196</td>\n      <td>196</td>\n      <td>196</td>\n      <td>196</td>\n    </tr>\n    <tr>\n      <th>23</th>\n      <td>204</td>\n      <td>204</td>\n      <td>204</td>\n      <td>204</td>\n      <td>204</td>\n    </tr>\n    <tr>\n      <th>24</th>\n      <td>31</td>\n      <td>31</td>\n      <td>31</td>\n      <td>31</td>\n      <td>31</td>\n    </tr>\n    <tr>\n      <th>25</th>\n      <td>22</td>\n      <td>22</td>\n      <td>22</td>\n      <td>22</td>\n      <td>22</td>\n    </tr>\n    <tr>\n      <th>26</th>\n      <td>11</td>\n      <td>11</td>\n      <td>11</td>\n      <td>11</td>\n      <td>11</td>\n    </tr>\n    <tr>\n      <th>27</th>\n      <td>34</td>\n      <td>34</td>\n      <td>34</td>\n      <td>34</td>\n      <td>34</td>\n    </tr>\n    <tr>\n      <th>28</th>\n      <td>150</td>\n      <td>150</td>\n      <td>150</td>\n      <td>150</td>\n      <td>150</td>\n    </tr>\n    <tr>\n      <th>29</th>\n      <td>140</td>\n      <td>140</td>\n      <td>140</td>\n      <td>140</td>\n      <td>140</td>\n    </tr>\n  </tbody>\n</table>\n</div>"
     },
     "metadata": {},
     "execution_count": 287
    }
   ],
   "source": [
    "from nltk.tokenize import sent_tokenize, word_tokenize\n",
    "from nltk.stem import PorterStemmer\n",
    "\n",
    "porter=PorterStemmer()\n",
    "\n",
    "def stemSentence(sentence):\n",
    "    token_words=word_tokenize(sentence)\n",
    "    token_words\n",
    "    stem_sentence=[]\n",
    "    for word in token_words:\n",
    "        stem_sentence.append(porter.stem(word))\n",
    "        stem_sentence.append(\" \")\n",
    "    return \"\".join(stem_sentence)\n",
    "\n",
    "for i in range(len(data)):\n",
    "    data[i] = stemSentence(data[i])\n",
    "\n",
    "vectorizer = TfidfVectorizer(stop_words=stop_words)\n",
    "X = vectorizer.fit_transform(data)\n",
    "\n",
    "\n",
    "np.random.seed(200)\n",
    "\n",
    "clusters = 30\n",
    "model = KMeans(n_clusters=clusters, init='k-means++', max_iter=100, n_init=1)\n",
    "model.fit(X)\n",
    "\n",
    "order_centroids = model.cluster_centers_.argsort()[:, ::-1]\n",
    "terms = vectorizer.get_feature_names()\n",
    "\n",
    "dfChat = dfChat.reset_index()\n",
    "\n",
    "labels = pd.DataFrame(model.labels_, columns=['label'])\n",
    "\n",
    "dfChatwLabels = pd.concat([dfChat.iloc[:,1:], labels], axis=1)\n",
    "\n",
    "dfChatwLabels.groupby(['label']).count()"
   ]
  },
  {
   "cell_type": "code",
   "execution_count": 288,
   "metadata": {},
   "outputs": [
    {
     "output_type": "stream",
     "name": "stdout",
     "text": "Cluster 0:\n prepar\n question\n test\n dumb\n zzzz\n fyi\n gabibbo\n gabacho\n ga\n fzn666\nCluster 1:\n lol\n wtf\n whi\n wa\n good\n hilari\n get\n orang\n like\n happi\nCluster 2:\n hello\n beauti\n itali\n everyon\n ladi\n liz\n miss\n rank\n love\n germani\nCluster 3:\n normal\n tho\n ahah\n snot\n expect\n plant\n christma\n trachea\n thumb\n thing\nCluster 4:\n danc\n pole\n sub\n start\n like\n lap\n love\n nicol\n pleas\n club\nCluster 5:\n love\n hi\n like\n thi\n good\n get\n clap\n wa\n go\n look\nCluster 6:\n help\n pleas\n fix\n consequ\n record\n recent\n nude\n gross\n jerk\n time\nCluster 7:\n milk\n stepmommi\n want\n pour\n titti\n fresh\n step\n mommi\n drink\n need\nCluster 8:\n omg\n queen\n hi\n jame\n ty\n kill\n real\n lol\n clap\n beauti\nCluster 9:\n ok\n oh\n sorri\n wa\n cool\n lol\n hope\n simp\n bud\n need\nCluster 10:\n came\n back\n stay\n cake\n gold\n smart\n drop\n game\n found\n time\nCluster 11:\n sr\n http\n halsey\n bad\n hhjhykpq8f0\n love\n front\n request\n put\n fwend\nCluster 12:\n http\n instagram\n follow\n go\n insta\n futureman\n futurist\n gabslov\n gabscut\n gabibbo\nCluster 13:\n name\n song\n nstagram\n write\n pleas\n game\n hi\n know\n spell\n thi\nCluster 14:\n hahahhahahahhaha\n zzzz\n fyi\n gabslov\n gabscut\n gabibbo\n gabacho\n ga\n fzn666\n fylket\nCluster 15:\n pepega\n clap\n part\n salamand\n neick\n start\n nick\n 420\n collect\n life\nCluster 16:\n 10\n year\n pushup\n minut\n min\n like\n ago\n would\n spin\n give\nCluster 17:\n lul\n pansexualprid\n hymanat\n wtf\n wait\n kreygasm\n know\n thi\n orang\n yea\nCluster 18:\n win\n mani\n goooooooooo\n guy\n boobi\n flash\n didnt\n spin\n leme\n kappa\nCluster 19:\n drop\n enabl\n dumb\n bitch\n doe\n show\n whi\n thi\n tit\n aa\nCluster 20:\n naughti\n public\n hang\n join\n open\n discord\n us\n come\n today\n http\nCluster 21:\n kappa\n lise\n say\n simp\n cake\n get\n green\n make\n easi\n sorri\nCluster 22:\n pickl\n move\n gang\n hater\n pleas\n titti\n presid\n power\n wheel\n dog\nCluster 23:\n yeah\n wtf\n oh\n hell\n wa\n look\n good\n true\n guess\n lol\nCluster 24:\n rip\n ear\n user\n guacamol\n elon\n tf2\n lol\n headphon\n rear\n oof\nCluster 25:\n yep\n lol\n squirrelnois\n confirm\n cock\n orang\n done\n bond\n mani\n spin\nCluster 26:\n ouch\n notlikethi\n hurt\n ear\n lot\n lul\n fwend\n fzn666\n gabslov\n gabscut\nCluster 27:\n slawfac\n omg\n good\n kid\n list\n let\n game\n thi\n prize\n nicol\nCluster 28:\n ye\n say\n know\n mom\n hahah\n sir\n realli\n true\n boob\n oh\nCluster 29:\n wow\n oh\n thank\n look\n good\n nicol\n support\n scam\n sub\n amaz\n"
    }
   ],
   "source": [
    "for i in range(clusters):\n",
    "    print('Cluster %d:' % i),\n",
    "    for ind in order_centroids[i, :10]:\n",
    "        print(' %s' % terms[ind])"
   ]
  },
  {
   "cell_type": "code",
   "execution_count": 289,
   "metadata": {},
   "outputs": [
    {
     "output_type": "stream",
     "name": "stdout",
     "text": "Prediction\n[5]\n"
    },
    {
     "output_type": "execute_result",
     "data": {
      "text/plain": "gHey pugHey pugHey pugWMA',\n 'sumMhm sumMhm sumMhm',\n 'OMEGALUL',\n 'Sage might be amazing for you, Nicole.',\n 'whats the go about the stimulus check graphic?',\n 'kaypikeHeyGuys',\n 'classic girl stream... gameplay secondary mini screen, b33bz main focus OMEGALUL',\n 'WE NEED THE KEY',\n 'Can you make the gameplay a bit smaller',\n 'that view was better!',\n 'too many thirsty fuckers in here',\n 'what?',\n 'hows that thirsty',\n 'it was better gameplay ion give a shit abt her tits homie',\n 'not you quezy haha',\n 'Free those b00bs',\n 'oh sorry homie',\n 'all G',\n 'its fuckin blazin in my room hotboxed and its makin me angry LOL',\n 'Is there friendly fire in this game',\n 'haha. my tourettes makes me angry enough haha',\n 'ahhh',\n 'kfcclaLove kfcclaLove',\n 'checkin in on the twins - lookin good still - c u next month',\n 'where is my beta key',\n 'coupled with night shift and lack of sleeps',\n 'SeemsGood',\n 'They are',\n 'where is it',\n 'gotta wait',\n 'fake B00bs op',\n 'gotta watch stream for like 2 hours before you get a drop',\n 'the last time i tuned into her stream which was for about 30 seconds she was pulling her knickers out of her vag haha',\n 'oh i have to link my riot account',\n 'nah',\n 'They look reel @umerkhn',\n 'Lookin like a snack',\n '@rogermj1994 Nah they fake',\n \"y'all trying so hard\",\n 'G',\n 'who is on your team',\n 'Is this a man? LuvUok',\n 'dafuq are clown shoes refering to??',\n 'you suck bruh',\n 'Let it fly like Steph Curry!',\n 'not you nicole',\n 'so if you walk slower, no clown shoes?',\n 'slawRight slawRight slawRight Kreygasm',\n 'This is my favorite trans streaming channel... LuvBlush LuvBlush LuvBlush',\n 'why doesnt james talk',\n '@KneeColeslaw you are the best step mommy ever to play valorant',\n 'this hanzo guy seems like boring character',\n 'i just washed my hair smells so lovley',\n 'broooo',\n 'she so dumb FailFish',\n 'slawScare slawScare slawScare slawScare',\n \"YOU'RE TRASH kfcclaRip kfcclaTrash\",\n 'what does it smell like robbiewa85',\n 'kaypikeLWING fishouMamie kaypikeRWING',\n 'My ears KneeCole',\n \"she's getting better\",\n 'Pure excitement slawScare slawScare slawScare slawCheese slawCheese slawHEH slawHEH',\n 'I can coach KneeCole after work so she can get better at this game',\n '@teemers sheabutter',\n 'kaceyThink',\n 'slawRight slawScare',\n 'kaceyThink interesting ult kaceyThink',\n 'shes a gamer',\n 'muting now',\n '@vordie she smokes??',\n 'funeral service for ear drums',\n \"YOU'RE TRASH kfcclaTrash kfcclaTrash\",\n 'APOLOGIZE',\n 'kvn53FOCUS kvn53FOCUS laxhawDeep laxhawCooked kl75TU',\n 'OR THAT WILL BECOME PERMANENT',\n 'kfcclaTrash kfcclaTrash kfcclaTrash',\n 'FrankerZ',\n 'permanent',\n 'kfcclaTrash kfcclaTrash kfcclaTrash kfcclaTrash kfcclaTrash kfcclaTrash kfcclaTrash kfcclaClown kfcclaClown kfcclaClown kfcclaClown kfcclaClown kfcclaClown kfcclaClown kfcclaClown kfcclaClown kfcclaClown kfcclaClown kfcclaClown kfcclaClown kfcclaClown kfcclaClown kfcclaClown kfcclaClown kfcclaClown kfcclaClown',\n 'slawFeels',\n 'Duck!',\n 'geeze Nicole how often do you crack your knuckles? lol',\n \"I'm sorry for the criticism. That last yell just hit an octave that stung my ears.\",\n '@KneeColeslaw UR TRASH kfcclaTrash kfcclaTrash kfcclaTrash kfcclaTrash',\n 'sorry she has arthritis from holding my dick',\n 'FrankerZ',\n 'benfruitBus benfruitBus',\n 'FAKE B00BS TRASH GAMER',\n 'touch ur boobs',\n 'kfcclaTrash kfcclaTrash kfcclaTrash kfcclaTrash kfcclaTrash kfcclaTrash kfcclaTrash kfcclaTrash kfcclaTrash kfcclaTrash kfcclaTrash kfcclaTrash kfcclaTrash kfcclaTrash kfcclaTrash kfcclaTrash kfcclaTrash kfcclaTrash kfcclaTrash kfcclaTrash kfcclaTrash kfcclaTrash kfcclaTrash kfcclaTrash',\n 'kaypikeSHARK1 kaypikeSHARK2',\n 'where do i sign up?',\n 'just give up',\n 'plz',\n 'bro you see that jaw line',\n 'i made c8mtribute',\n 'that chicks a dude irl',\n 'ratirlFlower',\n 'keep your crosshair higher lady',\n '@NZXTPhantom401 Tweet it at her',\n 'Behind you!',\n 'shoot them with your boobs !!!',\n \"@Vordie to get DMCA'd? nah. Find it\",\n 'Gears of War is a good 3rd person game you could try.',\n 'No tweet the cum tribute is what we mean @NZXTPhantom401',\n 'hi',\n 'na, just link it in chat',\n 'what is a cum tribute? KappaHD',\n 'FAKE B00BS TRASH NOOB GAMER kfcclaRip kfcclaTrash',\n 'krappa',\n 'google it FailFish FailFish',\n 'ha you got punched by a girl',\n 'sissy boy',\n 'Cum Tribute',\n '@skorbak its hhow you attract sharks',\n '!watchtime',\n 'nice i will try',\n 'this is so pro',\n \"j'aime tes gros boobs heyWow3 VirtualHug VirtualHug heyWow1\",\n 'Good job',\n 'ez gg',\n 'I have to workout tonight before I watch television later',\n 'No problem!',\n 'Hey',\n 'i love boobs',\n 'This looks like a bad version of csgo',\n 'Hows it going',\n \"gunzou89 elle a des notions de franais mais essayes de parler anglais mme si c'est pour dire de la merde <3\",\n 'are you are like a competitive FPS gamer now?',\n 'how much wood could a woodchuck chuck if a woodchuck could chuck wood?',\n '@Skorbak tkt',\n 'benfruitBanana benfruitBanana',\n 'kaypikeNEON kaypikeTHANK kaypikeYOU',\n 'Follow KneeColeslaw on Twitte',\n 'Your tits',\n 'distract them with boobs are kill !!!!!!!',\n 'and *',\n 'does that bug on the shoulder shit actually work?',\n 'Clap',\n 'kneecoleslaw is god',\n 'james did u stop playing',\n 'no im playing',\n 'A droner',\n 'am i banned',\n 'Is that what we call it now?',\n 'Clap',\n 'good job gorgeous',\n 'kl75TU kl75TU kl75TU',\n 'FrankerZ',\n 'FrankerZ',\n 'someone chug a beer',\n 'someone chug some vodka',\n 'hang up those clown shoes',\n 'can you play a different character this one is boring',\n 'hanzo is boring',\n 'bruh',\n 'im hot can i get a key',\n \"He'll be back in 4 hours\",\n 'i thought brendan lost his job how is he buying coffee beverages',\n 'Whats your discord?',\n '!discord',\n 'Pls god not a other discord spamer',\n '!followage',\n 'doesn`t Brendan live in Canada?if so he got a stimulus fro the Canadian government',\n \"Sova's fucking hot\",\n 'sova looks like the edgy character for all the 14yos',\n 'sova means owl in a couple Slavic languages',\n 'playing this game?',\n 'JAMES GET US A HEAL',\n 'hi how vare you',\n 'brendan just wants the game so he can give tim hortons his stimulus check',\n 'to end*',\n 'that would alot coffee and timbits',\n 'RUN IT IN BRENDAN',\n \"have u tried the new tim horton's vegan eggs?\",\n 'the Canadian government gave up to 2k for the stimulus',\n 'give me fukin key',\n 'f',\n 'canada banned assault weapons',\n 'grab the corner grab the corner!!',\n 'I love a woman with a gun',\n 'Powerful queen',\n 'slawYep slawYep',\n 'how r u enjoying the game Nicole',\n 'kinky',\n 'slop3GOOD slop3GOOD slop3GOOD slop3GOOD',\n 'Juke em',\n 'Nicole covering all the weak spots',\n 'strategic queen',\n 'I dont know why people liek this game. I cant stand fps with bullets AND magic',\n 'i am furious been waiting all weekend now to find you here looking beatiful and shit',\n 'Good evening Nicole .. U R playing really much better this game',\n 'your team is so diverse Nicole. straights, gays, women',\n 'the future of the army',\n 'how do you know if you get a key',\n 'Hey',\n 'you have to be hot cataclysmick_',\n 'I finally get my custom keyboard on Thursday',\n \"I can't wait to see it in person\",\n 'oh im hot asf',\n '!watchtime',\n 'great E nikki great E',\n 'kinky',\n 'ur so hot when ur serious KneeColeslaw',\n 'It feels like you enjoy the game more and more slop3UPP',\n 'Is it necessary that half the screen is covered in tits?',\n 'a lot of us happen to like her tits, xkickstand, fucking bitch',\n 'we got a kill we got s kill',\n 'Clap',\n 'a moment of silence for the guys who play with her and think they gonna smash',\n 'definition of simps',\n \"one of them is gay, the other is her literal boyfriend who's in a different room\",\n 'u incel',\n 'xkickstand one of them does and one is gay',\n 'hahahaha',\n 'take the damn ads off Kneecole',\n 'There she is!!!',\n 'PogChamp',\n 'heyyyy',\n 'Got elmers glue all over me',\n 'Follow KneeColeslaw on Twitte',\n 'make the cam smaller i wanna see less of you and more of the game',\n 'thats garage, KneeColeslaw',\n '@shanebola the concept of the stream is tits,gameplay is secondary',\n 'she isnt a good player so cam is better @shanebola',\n 'FrankerZ',\n 'make the cam bigger i wanna see more of you and less of the game',\n 'MLG',\n 'i just cummed',\n 'ur on A ramp KneeColeslaw',\n '',\n \"How's the games Nicole?\",\n 'shes killing it',\n 'Ohh now i remember why i mute this stream',\n 'i just joined, now im deaf',\n 'Nicole when Your team m8 dies U see blue X on the map, and U know where it was.',\n 'i dont mind the clown shoes it lets the bad guys know u arent afraid',\n 'having to use this \"Mod scren\" to see peoples logs instead of just openning up overrustlelogs makes me sad.',\n 'anyone else have choppy audio? or is it a problem on my end?',\n 'mine is fine',\n 'No',\n 'Mine is also fine',\n 'Hey, do you ever play fortnite?',\n 'Firefox is having audio issues with Twitch and YouTube',\n 'FrankerZ',\n 'kay. something wrong on my end then. thanks.',\n 'im on Chrome atm. i was also having issues with Firefox',\n 'i am using firefox @silverjoystixx thanks',\n 'V good Nicole',\n \"pouaaa paye t'es melon ma belle jme noyerais dedans comme jamais\",\n 'English only my friend',\n 'got a key for this yesterday. fun game.',\n \"Nicole i took the time to translate this for you. powaaa pay you're melon my beautiful i would drown in it like never - HotfoxGG\",\n 'When U fly dron stable ... U can shoot the guy with left mause button.',\n 'ez says Nicole not leaving the spawn',\n 'pokketS',\n 'love it',\n 'This really is more like Counter-Strike than Overwatch; I was wrong earlier',\n 'Silver, its supposed to be a tactical shooter, like C',\n 'i been on here for two hours now no key',\n 'seems interested if i was into this type of game',\n '@quezymanee is your account linked to twitch?',\n 'audio stuttering fixed on my end. much better',\n 'sharing activity too',\n 'Well i hope your luck changes',\n 'you can shoot someone with drone dart to tag them and reveal their location.',\n \"i'm extremely attracive, i'm just confused as to why i havent recieved any drops yet\",\n 'post proof',\n \"can't wait for the day Nicole carries the boys kaceyFlex\",\n 'Ohh if its based on attractiveness i should link my account so i can instantly get my key.',\n 'Yea Brendan u f word',\n 'Why does Brendan even play competitive games?',\n 'Pog',\n 'whip those nipples out!!!!!!!',\n 'Clap',\n 'Nice lind shooting !!!',\n 'Clap',\n \"Y'all won\",\n 'blind',\n 'whip those nipples out!!!!!!!',\n 'so proud of u',\n 'Oh my god',\n 'I wanna be Breach',\n 'not one single VIP member is on here they should be revoked of their badge lol',\n \"Wait can I play on Brendan's account\",\n \"there's another way to unlock a charcter too. well, two ways. one is to pay for it. another is to activate their contract. once it gets to level 5, you unlock the character. u get one free unlock at beta level 5 and 10\",\n 'oh he looks like he goes invisible',\n 'wow this guy is following you since 18th august 2013',\n 'nicole can you please play that hot guy',\n 'whos the hot gay',\n \"Scylver's not here\",\n 'whoever u want',\n 'im a pheonix main',\n 'what are our options i want to see',\n 'hit the recruit button',\n 'is nicole leaning to let some gas toot?',\n 'on character select in collection > agents',\n 'I really like your shirt today',\n 'hit that green recruit button',\n 'lol brrrrrrt',\n 'gtg .... Good night Nicole. Cya soon',\n 'show us other people',\n 'taking notes for a game wtf LUL',\n 'i like writing things',\n \"lol who determines who's hot or not\",\n 'Nicole please play the hot guy',\n 'which one is the hot one',\n '!specs',\n 'the one on the right',\n 'Phoenix is very hot too',\n 'the guy wiht hat',\n 'ONE MORE',\n 'the bow guy',\n 'YAAAAS',\n 'is that what marcos looks like',\n \"he's hot!!????\",\n 'Breach looks like a lumberjack reject',\n 'how do I find your pc specs?',\n 'Follow KneeColeslaw on Twitte',\n \"with this game, any movement screws up the aim. shots won't go where u want while moving\",\n 'hi',\n 'were you about call MArcos sam',\n \"oh he's a dom\",\n 'and remember its ok if you lose, the important thing in gaming is to have fun',\n 'you',\n '@KneeColeslaw I just wanted to let you know that your fucking hot. Have a good day',\n 'did you miss me?',\n \"you seem to have high quality gear, and I'm just interested\",\n 'you say gtx before the numbers women',\n 'majinoBuss',\n 'nice. monitors?',\n 'hi @KneeColeslaw',\n 'SeemsGood',\n \"hey kneecole i've been quietly enjoying your gameplay but i need to visit the market have a good evening\",\n 'oh no shes yawning',\n \"they're losing her\",\n 'this game is sexist',\n 'jarvan flag',\n 'information overload makes it easy to fall asleep.',\n 'how do i get how do i get this game',\n ' ',\n 'shoot all the boys',\n 'pillar of death',\n '@RyanTheGamer17 connect your league of legends account with twitch and just watch stream where is game Valorant',\n '*riot games account',\n 'tits',\n \"Jett's ultimate is cool\",\n \"you can get three chargers of Jett's Q, one of Jett's E.\",\n '*charges',\n 'Zenyatta',\n 'you can fire the ult one at a time or all knives at once',\n 'i was playing link to the past',\n 'thought youd be well happy',\n 'teresa',\n 'I only pressed follow to ask why u have Xmas tree?',\n 'love the xmas tree',\n 'sorry can someone repeat what tree?',\n 'it heals about 90-95',\n '!watchtime',\n 'majinoSkiip',\n 'i got it!',\n 'I like the strategically placed mirror behind you',\n 'do you have a boyfriend?',\n 'mei wall',\n 'its all digitally',\n 'Can you make the game smaller its covering you',\n \"you have to activate cypher's Q. u toss it with q, then look at it and hit f to activate it\",\n 'its kinda like tha tbut you can actually see',\n 'u can tag enemies from camera view by shooting them',\n 'do u remember',\n 'they get slowed and revealed after triggering it',\n 'Also can you tilt the camera down a little more',\n 'Your first FPS game should have been Half-Life OpieOP',\n 'Maybe just a bag over the head?',\n 'greetings',\n 'Woah woah woah dude',\n 'Fine ill deal with the face',\n 'You look nice today nicole',\n 'HahaBall',\n \"yea. q isn't a smoke\",\n 'hi @KneeColeslaw',\n 'it limites enemy vision',\n 'Your boobs are fantastic',\n 'heyyyy a va ?',\n 'Do you play the game or just sit there collecting from simps',\n 'PUTE',\n 'you should do a Charcoal Mask on Stream',\n 'majinoDrip',\n 'Kacey is on some weird ass channel looking hot as fuck right now',\n 'Raze',\n 'Maybe if you play you will learn them?',\n 'nicole cold slaw',\n 'Hiiiiiiiiiiiiiii',\n 'heyyy',\n 'hey nicole',\n 'viper ti',\n 'Hi Nicole! Love ur make up',\n \"viper's ult has a duration limit. BUT if viper is in it, it sticks around indefinitely. enemies are highlighted red in the ult cloud\",\n 'if viper leaves it, the duration starts counting down again',\n \"okay jk im back to see your gameplay the show that kacey's on looks like hot trash\",\n 'Follow KneeColeslaw on Twitte',\n 'this completely random but i cant believe it is not on FAQ, how old are?',\n 'I think Kacey is going to try and fuck this guy who makes pinball machines',\n 'not at all just interested.',\n '@cyberis666 thats very rude',\n 'you get a notificatino and an email if you get the drop @shoebat',\n 'kind of',\n 'I like the sassy side not going to lie hello new to the stream',\n 'twitch notification and email',\n 'not very just a litlle tho',\n '@shoebat I never received a notification',\n 'practice from play tab',\n 'hey nicole has been almost 8 years since a discover you, hughs from Argentina',\n 'and then select shooting range',\n 'majinoWoke',\n 'role playing in a shooter... this is gonna be fun lol',\n 'girl gamers...smh',\n 'actual ree',\n 'how do the bits work?',\n 'hi',\n \"it's on about a thirty second cooldown for the heal\",\n 'QUICK I NEED 300 CC OF ATTENTION STAT',\n 'different weapons have different wall penetration properties. open buy tab and view weapon descriptions',\n 'description of weapons on right side in buy tab lets you know rate of fire, wall penetration levels, magazine size, etc',\n 'hey, the cam is whrong',\n 'u can knife wall. just takes longer',\n 'que tetas',\n 'Hi',\n 'The less you move the more accurate your shots will be',\n 'good game tip',\n 'MonkaS',\n 'wtf was that about?',\n 'did he just troll you?',\n 'hi',\n '!watchtime',\n 'RULE OF THUMB',\n 'WHERES MY KEY BITCH',\n 'Silence dogs BabyRage',\n 'Give dogs tequila',\n 'whos that',\n 'slawWTF',\n 'Person talking please Identify yourself.',\n 'ahh Ddollars',\n '3 bullets',\n 'oh thats who i thought',\n 'nicole didnt wanna answer',\n 'I need a Playstaion 4 Pro',\n 'Can you buy me one?',\n 'for what game',\n 'TLOU 2',\n 'pineapple',\n 'Mommy Nicole',\n 'See you later',\n 'I wanna put that pizza in your shirt',\n 'Nice meatball topping',\n 'suck ur fingers and moan',\n 'kneecoleslaw I love the facecam view',\n 'Trisha Paytas is sexy when she eats',\n 'Its like listening to ASMR eating',\n 'suck your fingers and moan for 50',\n 'which champion r u now',\n 'show food',\n 'He was staring at those melons',\n '@xdylanx shes like mercy',\n 'Same her e',\n 'what kind of pizza and where from',\n 'Follow KneeColeslaw on Twitte',\n 'fuck man i got zero chance of getting a key then shiiiiiat',\n 'hi',\n 'I got a key',\n 'i was surprised u werent on it brendan!!',\n \"I'm not gay and I watch Kacey\",\n 'damn look at them titties',\n 'fortnite',\n \"You should watch Yuuie, She's funny, goofy and cute <3\",\n 'That is the first titty comment tonight',\n \"I've tended to make less money for jobs I enjoy more\",\n 'I cant wait to play this game, it looks so dope',\n 'u play really good @kneecoleslaw',\n 'this game is pretty fun, had it for a few weeks now',\n 'why are you play custom games',\n 'bruh',\n 'what am i watching ? bruhh',\n 'you should really lower your sensivity, it looks way too fast',\n 'She got a mf wagon on her!!! Her insta pics are fire',\n 'u need to master ults and smokes and most importantly crosshair placeme t',\n 'She still has her Christmas tree up',\n 'always keep crosshair head level',\n 'so we cant see a quarter of the screen, can u make ur cam smaller',\n 'Start at 1.6',\n 'put it at the higest',\n 'highest',\n 'put your sens on 0.5 @kneecoleslaw',\n '@KneeColeslaw mouse and dpi should be natural 360 with your mouse gesture right and left. you can do a 360 without thinking',\n 'i myself play 0.2 and im Plat 3. its so dope',\n 'hey',\n 'PogChamp',\n 'but make sure u use Qs and Es ults too',\n 'that is WILD i had leftover pizza today as well',\n 'right hand side',\n 'left bars @kneecoleslaw',\n 'its a menu that appears',\n '@KneeColeslaw practice is the key your feel like you miss less shot when you have the right dpi. there is now right setting that work for everyone',\n 'no',\n '@kneecoleslaw try Brimstone, Jett or Phoenix good to start.',\n 'have to play 20 games to unlock comp',\n 'im thinkin about havin another couple slices later too',\n '',\n '@purplediesel and 5 placement games',\n 'thats to get a rank',\n 'im talkin about how to play comp',\n 'cant wait for the high elo valorant streams wow',\n 'dont think about rank @kneecoleslaw just master skills on unranked',\n 'skadoodle is high rank. immortal i think',\n 'davidp is Valorant already',\n \"this isn't a role playing game its a shooter\",\n '@KneeColeslaw make sure your enhance pointer precision is set to false in windows it the worst option in windows for gamers it counter the muscle memory effect',\n 'shoebat you can roleplay in any game',\n \"don't be closeminded\",\n 'HEY MUMMY',\n \"cool i cant wait to see your guys' roleplaying this game\",\n 'how did you find valorant ? @KneeColeslaw',\n '',\n 'do u workout on quarantine @kneecoleslaw ?',\n 'is valorant fun ? @KneeColeslaw',\n 'FPS gamer slawWTF',\n 'pick Brimstone',\n \"i'm getting hotter in quarantine tbh\",\n 'This quarantine has affected my erection quality',\n 'Hi Thomas ckzNebulaheart',\n 'Nicole is now a professional fps gamer @KneeColeslaw',\n 'Brimstone',\n '@crowdnplays everybody can workout on quarantine i work out everyday at home to stay fit',\n 'snooze you lose',\n 'PHOENIX',\n 'Yall are a mess',\n 'are you going to roleplay as phoenix?',\n 'This is like Overwatch and Counter Strike clones',\n 'aww shit',\n 'ckzO',\n 'ckzO',\n 'Queen',\n 'do overbuy @kneecoleslaw should eco on that loss',\n ...]"
     },
     "metadata": {},
     "execution_count": 289
    }
   ],
   "source": [
    "testMsg = ['ur a simp']\n",
    "\n",
    "testMsg = [stemSentence(testMsg[0])]\n",
    "\n",
    "print('Prediction')\n",
    "X = vectorizer.transform(testMsg)\n",
    "predicted = model.predict(X)\n",
    "print(predicted)\n",
    "\n",
    "dfChatwLabels[dfChatwLabels['label'] == predicted[0]].text.tolist()"
   ]
  },
  {
   "cell_type": "code",
   "execution_count": 290,
   "metadata": {},
   "outputs": [
    {
     "output_type": "execute_result",
     "data": {
      "text/plain": "['normal',\n 'now its normal tho',\n 'things wont be back t normal for yeas get used to t',\n 'even tho the cake didnt come out normal ive been entertained emzGG',\n 'you have high expectations so its normal',\n \"I think your thumbs are normal. It's your trachea that is fucked\",\n 'u sure u are normal? ahah',\n '@JRock_TTV ur a normal champ congrats being normal so cool',\n 'after you create your onlyfans account everything will return to normal as god intended.',\n \"You have a normal forehead don't worry and beautiful lips\",\n 'Brenden watched you in the shower and doesnt get blood rushing to his pp ... is he normal?',\n 'Wait that snot normal haha',\n \"it's not christmas, just have a normal plant\",\n 'and its normal, i spent years....years wasting my life dwelling on the shitty past with my ex, yet now, if i see her, i can talk to her like shes just a normal person, not saying you will or ever have to do that ha, but it shows how things can change just like that...so...anyway ill shut up now']"
     },
     "metadata": {},
     "execution_count": 290
    }
   ],
   "source": [
    "clusterNum = 3\n",
    "\n",
    "dfChatwLabels[dfChatwLabels['label'] == clusterNum].text.tolist()"
   ]
  },
  {
   "cell_type": "code",
   "execution_count": 291,
   "metadata": {},
   "outputs": [
    {
     "output_type": "error",
     "ename": "AttributeError",
     "evalue": "'DataFrame' object has no attribute 'text'",
     "traceback": [
      "\u001b[1;31m---------------------------------------------------------------------------\u001b[0m",
      "\u001b[1;31mAttributeError\u001b[0m                            Traceback (most recent call last)",
      "\u001b[1;32m<ipython-input-291-e3e43d7716b5>\u001b[0m in \u001b[0;36m<module>\u001b[1;34m\u001b[0m\n\u001b[0;32m      7\u001b[0m \u001b[1;33m\u001b[0m\u001b[0m\n\u001b[0;32m      8\u001b[0m \u001b[1;31m# iterate through the csv file\u001b[0m\u001b[1;33m\u001b[0m\u001b[1;33m\u001b[0m\u001b[1;33m\u001b[0m\u001b[0m\n\u001b[1;32m----> 9\u001b[1;33m \u001b[1;32mfor\u001b[0m \u001b[0mval\u001b[0m \u001b[1;32min\u001b[0m \u001b[0mmartonoChat\u001b[0m\u001b[1;33m.\u001b[0m\u001b[0mtext\u001b[0m\u001b[1;33m:\u001b[0m\u001b[1;33m\u001b[0m\u001b[1;33m\u001b[0m\u001b[0m\n\u001b[0m\u001b[0;32m     10\u001b[0m \u001b[1;33m\u001b[0m\u001b[0m\n\u001b[0;32m     11\u001b[0m     \u001b[1;31m# typecaste each val to string\u001b[0m\u001b[1;33m\u001b[0m\u001b[1;33m\u001b[0m\u001b[1;33m\u001b[0m\u001b[0m\n",
      "\u001b[1;32m~\\.conda\\envs\\ACO\\lib\\site-packages\\pandas\\core\\generic.py\u001b[0m in \u001b[0;36m__getattr__\u001b[1;34m(self, name)\u001b[0m\n\u001b[0;32m   5272\u001b[0m             \u001b[1;32mif\u001b[0m \u001b[0mself\u001b[0m\u001b[1;33m.\u001b[0m\u001b[0m_info_axis\u001b[0m\u001b[1;33m.\u001b[0m\u001b[0m_can_hold_identifiers_and_holds_name\u001b[0m\u001b[1;33m(\u001b[0m\u001b[0mname\u001b[0m\u001b[1;33m)\u001b[0m\u001b[1;33m:\u001b[0m\u001b[1;33m\u001b[0m\u001b[1;33m\u001b[0m\u001b[0m\n\u001b[0;32m   5273\u001b[0m                 \u001b[1;32mreturn\u001b[0m \u001b[0mself\u001b[0m\u001b[1;33m[\u001b[0m\u001b[0mname\u001b[0m\u001b[1;33m]\u001b[0m\u001b[1;33m\u001b[0m\u001b[1;33m\u001b[0m\u001b[0m\n\u001b[1;32m-> 5274\u001b[1;33m             \u001b[1;32mreturn\u001b[0m \u001b[0mobject\u001b[0m\u001b[1;33m.\u001b[0m\u001b[0m__getattribute__\u001b[0m\u001b[1;33m(\u001b[0m\u001b[0mself\u001b[0m\u001b[1;33m,\u001b[0m \u001b[0mname\u001b[0m\u001b[1;33m)\u001b[0m\u001b[1;33m\u001b[0m\u001b[1;33m\u001b[0m\u001b[0m\n\u001b[0m\u001b[0;32m   5275\u001b[0m \u001b[1;33m\u001b[0m\u001b[0m\n\u001b[0;32m   5276\u001b[0m     \u001b[1;32mdef\u001b[0m \u001b[0m__setattr__\u001b[0m\u001b[1;33m(\u001b[0m\u001b[0mself\u001b[0m\u001b[1;33m,\u001b[0m \u001b[0mname\u001b[0m\u001b[1;33m:\u001b[0m \u001b[0mstr\u001b[0m\u001b[1;33m,\u001b[0m \u001b[0mvalue\u001b[0m\u001b[1;33m)\u001b[0m \u001b[1;33m->\u001b[0m \u001b[1;32mNone\u001b[0m\u001b[1;33m:\u001b[0m\u001b[1;33m\u001b[0m\u001b[1;33m\u001b[0m\u001b[0m\n",
      "\u001b[1;31mAttributeError\u001b[0m: 'DataFrame' object has no attribute 'text'"
     ]
    }
   ],
   "source": [
    "martonoChat = df[df['chatchannel'] == 'martinimonsters']\n",
    "\n",
    "from wordcloud import WordCloud, STOPWORDS\n",
    "\n",
    "comment_words = '' \n",
    "stopwords = set(STOPWORDS) \n",
    "  \n",
    "# iterate through the csv file \n",
    "for val in martonoChat.text: \n",
    "      \n",
    "    # typecaste each val to string \n",
    "    val = str(val) \n",
    "  \n",
    "    # split the value \n",
    "    tokens = val.split() \n",
    "      \n",
    "    # Converts each token into lowercase \n",
    "    for i in range(len(tokens)): \n",
    "        tokens[i] = tokens[i].lower() \n",
    "      \n",
    "    comment_words += \" \".join(tokens)+\" \"\n",
    "  \n",
    "wordcloud = WordCloud(width = 2000, height = 2000, \n",
    "                background_color ='white', \n",
    "                stopwords = stopwords, \n",
    "                min_font_size = 10).generate(comment_words) \n",
    "  \n",
    "# plot the WordCloud image                        \n",
    "plt.figure(figsize = (15, 15), facecolor = None) \n",
    "plt.imshow(wordcloud) \n",
    "plt.axis(\"off\") \n",
    "plt.tight_layout(pad = 0) \n",
    "  \n",
    "plt.show() "
   ]
  },
  {
   "cell_type": "code",
   "execution_count": null,
   "metadata": {},
   "outputs": [],
   "source": []
  }
 ],
 "metadata": {
  "language_info": {
   "codemirror_mode": {
    "name": "ipython",
    "version": 3
   },
   "file_extension": ".py",
   "mimetype": "text/x-python",
   "name": "python",
   "nbconvert_exporter": "python",
   "pygments_lexer": "ipython3",
   "version": "3.6.10-final"
  },
  "orig_nbformat": 2,
  "kernelspec": {
   "name": "python361064bitacocondac17bd05533524cec8f314ba0432b377a",
   "display_name": "Python 3.6.10 64-bit ('ACO': conda)"
  }
 },
 "nbformat": 4,
 "nbformat_minor": 2
}